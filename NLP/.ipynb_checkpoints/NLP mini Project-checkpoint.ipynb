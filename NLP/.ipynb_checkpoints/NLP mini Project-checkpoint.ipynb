{
 "cells": [
  {
   "cell_type": "markdown",
   "id": "d7b4ab7c-ffa7-439d-9ab0-aec1e7a5e02d",
   "metadata": {},
   "source": [
    "POS Taggers for Indian Languages\n"
   ]
  },
  {
   "cell_type": "code",
   "execution_count": 1,
   "id": "66fecfc1-f8ae-4323-98c3-3e76fcd05f10",
   "metadata": {},
   "outputs": [
    {
     "name": "stderr",
     "output_type": "stream",
     "text": [
      "Unable to create process using 'C:\\Users\\Yash Dhumal\\anaconda3\\python.exe \"C:\\Users\\Yash Dhumal\\anaconda3\\Scripts\\pip-script.py\" install indic-nlp-library'\n",
      "[nltk_data] Downloading package punkt to C:\\Users\\Yash\n",
      "[nltk_data]     Dhumal\\AppData\\Roaming\\nltk_data...\n",
      "[nltk_data]   Package punkt is already up-to-date!\n",
      "[nltk_data] Downloading package averaged_perceptron_tagger to\n",
      "[nltk_data]     C:\\Users\\Yash Dhumal\\AppData\\Roaming\\nltk_data...\n",
      "[nltk_data]   Package averaged_perceptron_tagger is already up-to-\n",
      "[nltk_data]       date!\n"
     ]
    },
    {
     "data": {
      "text/plain": [
       "True"
      ]
     },
     "execution_count": 1,
     "metadata": {},
     "output_type": "execute_result"
    }
   ],
   "source": [
    "# Install required libraries (run once)\n",
    "!pip install indic-nlp-library\n",
    "import nltk\n",
    "nltk.download('punkt')\n",
    "nltk.download('averaged_perceptron_tagger')\n"
   ]
  },
  {
   "cell_type": "code",
   "execution_count": 2,
   "id": "6869a71f-b8fb-4425-8345-7e561cd2f0cd",
   "metadata": {
    "scrolled": true
   },
   "outputs": [],
   "source": [
    "# Importing libraries\n",
    "from indicnlp.tokenize import indic_tokenize\n",
    "import nltk\n",
    "from nltk.tag import UnigramTagger\n",
    "from nltk.tag import BigramTagger\n",
    "from nltk.corpus import indian\n",
    "from nltk.corpus.reader import ConllCorpusReader"
   ]
  },
  {
   "cell_type": "code",
   "execution_count": 3,
   "id": "4ea7c0d4-c80d-403b-aae1-64b0a56a7386",
   "metadata": {},
   "outputs": [
    {
     "name": "stdout",
     "output_type": "stream",
     "text": [
      "Tokenized sentence: ['मैं', 'स्कूल', 'जा', 'रहा', 'हूँ', '।']\n"
     ]
    }
   ],
   "source": [
    "# Sample Hindi sentence\n",
    "sentence = \"मैं स्कूल जा रहा हूँ।\"\n",
    "tokens = list(indic_tokenize.trivial_tokenize(sentence, lang='hi'))\n",
    "print(\"Tokenized sentence:\", tokens)"
   ]
  },
  {
   "cell_type": "code",
   "execution_count": 4,
   "id": "38138001-e82a-4bfd-9720-513ba6c2c5fd",
   "metadata": {},
   "outputs": [],
   "source": [
    "# Sample tagged corpus (for demo purposes – ideally use a real Hindi POS tagged dataset)\n",
    "# Here we simulate a small training corpus\n",
    "train_data = [\n",
    "    [('मैं', 'PRP'), ('स्कूल', 'NN'), ('जा', 'VM'), ('रहा', 'VAUX'), ('हूँ', 'VAUX')],\n",
    "    [('वह', 'PRP'), ('घर', 'NN'), ('गया', 'VM')],\n",
    "    [('हम', 'PRP'), ('खेल', 'NN'), ('रहे', 'VAUX'), ('थे', 'VAUX')],\n",
    "]\n"
   ]
  },
  {
   "cell_type": "code",
   "execution_count": 5,
   "id": "9a7ffe77-ee03-4707-a4ef-b73b09cc23bf",
   "metadata": {},
   "outputs": [],
   "source": [
    "# Train a UnigramTagger with backoff to default tagger\n",
    "default_tagger = nltk.DefaultTagger('NN')\n",
    "unigram_tagger = UnigramTagger(train_data, backoff=default_tagger)\n",
    "bigram_tagger = BigramTagger(train_data, backoff=unigram_tagger)\n"
   ]
  },
  {
   "cell_type": "code",
   "execution_count": 6,
   "id": "19d80c55-a357-4222-8b1f-816522245f03",
   "metadata": {},
   "outputs": [
    {
     "name": "stdout",
     "output_type": "stream",
     "text": [
      "\n",
      "POS Tagged Sentence:\n",
      "मैं --> PRP\n",
      "स्कूल --> NN\n",
      "जा --> VM\n",
      "रहा --> VAUX\n",
      "हूँ --> VAUX\n",
      "। --> NN\n"
     ]
    }
   ],
   "source": [
    "# Tag a new sentence\n",
    "tagged = bigram_tagger.tag(tokens)\n",
    "print(\"\\nPOS Tagged Sentence:\")\n",
    "for word, tag in tagged:\n",
    "    print(f\"{word} --> {tag}\")"
   ]
  },
  {
   "cell_type": "code",
   "execution_count": null,
   "id": "3d9bf008-8eb7-494e-8add-02345a97c2c3",
   "metadata": {},
   "outputs": [],
   "source": []
  }
 ],
 "metadata": {
  "kernelspec": {
   "display_name": "Python 3 (ipykernel)",
   "language": "python",
   "name": "python3"
  },
  "language_info": {
   "codemirror_mode": {
    "name": "ipython",
    "version": 3
   },
   "file_extension": ".py",
   "mimetype": "text/x-python",
   "name": "python",
   "nbconvert_exporter": "python",
   "pygments_lexer": "ipython3",
   "version": "3.12.7"
  }
 },
 "nbformat": 4,
 "nbformat_minor": 5
}
