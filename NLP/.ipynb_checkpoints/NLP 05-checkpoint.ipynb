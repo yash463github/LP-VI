{
 "cells": [
  {
   "cell_type": "code",
   "execution_count": 1,
   "id": "b7c252af-9ca4-485a-b87e-dec710b68aad",
   "metadata": {},
   "outputs": [
    {
     "name": "stderr",
     "output_type": "stream",
     "text": [
      "[nltk_data] Downloading package punkt to C:\\Users\\Yash\n",
      "[nltk_data]     Dhumal\\AppData\\Roaming\\nltk_data...\n"
     ]
    },
    {
     "name": "stdout",
     "output_type": "stream",
     "text": [
      "['run', 'happier', 'better', 'dog', 'studi']\n"
     ]
    },
    {
     "name": "stderr",
     "output_type": "stream",
     "text": [
      "[nltk_data]   Package punkt is already up-to-date!\n"
     ]
    }
   ],
   "source": [
    "import nltk\n",
    "from nltk.stem import PorterStemmer\n",
    "nltk.download('punkt') # Ensure you have necessary data\n",
    "# Initialize PorterStemmer\n",
    "ps = PorterStemmer()\n",
    "words = [\"running\", \"happier\", \"better\", \"dogs\", \"studies\"]\n",
    "# Apply stemming\n",
    "stemmed_words = [ps.stem(word) for word in words]\n",
    "print(stemmed_words)"
   ]
  },
  {
   "cell_type": "code",
   "execution_count": 3,
   "id": "7ef4a217-2297-499e-8f93-c1dcbd70970d",
   "metadata": {},
   "outputs": [
    {
     "name": "stdout",
     "output_type": "stream",
     "text": [
      "run\n",
      "dog\n"
     ]
    },
    {
     "name": "stderr",
     "output_type": "stream",
     "text": [
      "[nltk_data] Downloading package wordnet to C:\\Users\\Yash\n",
      "[nltk_data]     Dhumal\\AppData\\Roaming\\nltk_data...\n",
      "[nltk_data]   Package wordnet is already up-to-date!\n"
     ]
    }
   ],
   "source": [
    "import nltk\n",
    "from nltk.stem import WordNetLemmatizer\n",
    "from nltk.corpus import wordnet\n",
    "\n",
    "nltk.download('wordnet')\n",
    "\n",
    "# Initialize Lemmatizer\n",
    "lemmatizer = WordNetLemmatizer()\n",
    "\n",
    "# Lemmatizing words with proper part of speech\n",
    "print(lemmatizer.lemmatize(\"running\", wordnet.VERB))  # Lemmatize as verb\n",
    "print(lemmatizer.lemmatize(\"dogs\", wordnet.NOUN))  # Lemmatize as noun\n"
   ]
  },
  {
   "cell_type": "code",
   "execution_count": 4,
   "id": "2fd7b0de-ccbc-4bcc-af38-447398335273",
   "metadata": {},
   "outputs": [
    {
     "name": "stdout",
     "output_type": "stream",
     "text": [
      "Prefix: un, Root: happy, Suffix: ness\n"
     ]
    }
   ],
   "source": [
    "# Word with suffix\n",
    "word = \"unhappiness\"\n",
    "# Breaking down the affixation manually\n",
    "prefix = \"un\"\n",
    "root = \"happy\"\n",
    "suffix = \"ness\"\n",
    "print(f\"Prefix: {prefix}, Root: {root}, Suffix: {suffix}\")"
   ]
  },
  {
   "cell_type": "code",
   "execution_count": 6,
   "id": "9a0259dd-74d7-415b-a978-aac1da0206c2",
   "metadata": {},
   "outputs": [
    {
     "name": "stdout",
     "output_type": "stream",
     "text": [
      "['runn', 'play', 'quick', None]\n"
     ]
    }
   ],
   "source": [
    "import re\n",
    "def remove_suffix(word):\n",
    "    suffixes = [\"ing\", \"es\", \"ed\", \"ly\", \"ment\"]\n",
    "    for suffix in suffixes:\n",
    "        if word.endswith(suffix):\n",
    "            return re.sub(suffix + \"$\", \"\", word)\n",
    "            return word\n",
    "# Test words\n",
    "words = [\"running\", \"played\", \"quickly\", \"happiness\"]\n",
    "# Apply affix removal\n",
    "processed_words = [remove_suffix(word) for word in words]\n",
    "print(processed_words)"
   ]
  },
  {
   "cell_type": "code",
   "execution_count": null,
   "id": "874c82de-e9b4-4e44-9e9c-9c65b1825818",
   "metadata": {},
   "outputs": [],
   "source": []
  }
 ],
 "metadata": {
  "kernelspec": {
   "display_name": "Python 3 (ipykernel)",
   "language": "python",
   "name": "python3"
  },
  "language_info": {
   "codemirror_mode": {
    "name": "ipython",
    "version": 3
   },
   "file_extension": ".py",
   "mimetype": "text/x-python",
   "name": "python",
   "nbconvert_exporter": "python",
   "pygments_lexer": "ipython3",
   "version": "3.12.7"
  }
 },
 "nbformat": 4,
 "nbformat_minor": 5
}
